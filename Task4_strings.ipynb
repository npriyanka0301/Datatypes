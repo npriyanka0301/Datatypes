{
 "cells": [
  {
   "cell_type": "code",
   "execution_count": 4,
   "id": "33513707",
   "metadata": {},
   "outputs": [
    {
     "name": "stdout",
     "output_type": "stream",
     "text": [
      "Priyanka and Aadya\n",
      "pRIYANKA AND aADYA\n"
     ]
    }
   ],
   "source": [
    "# You are given a string and your task is to swap cases. \n",
    "# In other words, convert all lowercase letters to uppercase letters and vice versa\n",
    "\n",
    "name = input()\n",
    "print(''.join(c.lower() if c.isupper() else c.upper() for c in name))"
   ]
  },
  {
   "cell_type": "code",
   "execution_count": 1,
   "id": "6974a199",
   "metadata": {},
   "outputs": [
    {
     "name": "stdout",
     "output_type": "stream",
     "text": [
      "Enter a string:this is a string\n",
      "this-is-a-string\n"
     ]
    }
   ],
   "source": [
    "# Task\n",
    "# You are given a string. Split the string on a \" \" (space) delimiter and join using a - hyphen.\n",
    "#Function Description\n",
    "\n",
    "#Complete the split_and_join function in the editor below.\n",
    "#split_and_join has the following parameters:\n",
    "#string line: a string of space-separated words\n",
    "#Returns\n",
    "#string: the resulting string\n",
    "#Input Format\n",
    "#The one line contains a string consisting of space separated words.\n",
    "\n",
    "def split_and_join(line):\n",
    "    line_list = line.split(\" \")\n",
    "    return \"-\".join(line_list)\n",
    "\n",
    "if __name__ == '__main__':\n",
    "    line = input('Enter a string:')\n",
    "    result = split_and_join(line)\n",
    "    print(result)\n",
    "\n"
   ]
  },
  {
   "cell_type": "code",
   "execution_count": 2,
   "id": "9616cce0",
   "metadata": {},
   "outputs": [
    {
     "name": "stdout",
     "output_type": "stream",
     "text": [
      "Enter your first name: priyanka\n",
      "Enter your last name: nandibhatla\n",
      "Hello priyanka nandibhatla! You just delved into python.\n"
     ]
    }
   ],
   "source": [
    "#Task\n",
    "#You are given the firstname and lastname of a person on two different lines. Your task is to read them and print the following:\n",
    "#Hello firstname lastname! You just delved into python.\n",
    "#Function Description\n",
    "#Complete the print_full_name function in the editor below.\n",
    "#print_full_name has the following parameters:\n",
    "#string first: the first name\n",
    "#string last: the last name\n",
    "\n",
    "firstname = input('Enter your first name: ')\n",
    "lastname = input('Enter your last name: ')\n",
    "print(\"Hello {} {}! You just delved into python.\".format(firstname, lastname))"
   ]
  },
  {
   "cell_type": "code",
   "execution_count": 4,
   "id": "e8aaa39a",
   "metadata": {},
   "outputs": [
    {
     "name": "stdout",
     "output_type": "stream",
     "text": [
      "Enter a string:Priyanka\n",
      "Enter place value to replace:5 a\n",
      "Priyaaka\n"
     ]
    }
   ],
   "source": [
    "#Task\n",
    "#Read a given string, change the character at a given index and then print the modified string.\n",
    "#Function Description\n",
    "\n",
    "#Complete the mutate_string function in the editor below.\n",
    "\n",
    "#mutate_string has the following parameters:\n",
    "\n",
    "#string string: the string to change\n",
    "#int position: the index to insert the character at\n",
    "#string character: the character to insert\n",
    "\n",
    "string = input('Enter a string:')\n",
    "line = input('Enter place value to replace:').split()\n",
    "i, c = int(line[0]), line[1]\n",
    "print(string[:i] + c + string[i+1:])"
   ]
  },
  {
   "cell_type": "code",
   "execution_count": 8,
   "id": "b276bef9",
   "metadata": {},
   "outputs": [
    {
     "name": "stdout",
     "output_type": "stream",
     "text": [
      "Enter a string: ABCDCDC\n",
      "Enter a substring: CDC\n",
      "ABCDCDC\n",
      "CDC\n",
      "ABC\n",
      "BCD\n",
      "CDC\n",
      "DCD\n",
      "CDC\n",
      "DC\n",
      "C\n",
      "2\n"
     ]
    }
   ],
   "source": [
    "#In this challenge, the user enters a string and a substring. \n",
    "#You have to print the number of times that the substring occurs in the given string. \n",
    "#String traversal will take place from left to right, not from right to left.\n",
    "\n",
    "#NOTE: String letters are case-sensitive.\n",
    "\n",
    "#Input Format\n",
    "\n",
    "#The first line of input contains the original string. The next line contains the substring.\n",
    "\n",
    "#def count_substrings(string, sub_string):\n",
    "\n",
    "string=str(input('Enter a string: '))\n",
    "sub_string=str(input('Enter a substring: '))\n",
    "print(string)\n",
    "print(sub_string)\n",
    "count=0\n",
    "for i in range(0,len(string)):\n",
    "    str_i=string[i:i+len(sub_string)]\n",
    "    print(str_i)    \n",
    "    if str_i ==sub_string:\n",
    "        count=count+1\n",
    "print(count)"
   ]
  },
  {
   "cell_type": "code",
   "execution_count": 10,
   "id": "a807c1f1",
   "metadata": {},
   "outputs": [
    {
     "name": "stdout",
     "output_type": "stream",
     "text": [
      "qA2\n",
      "True\n",
      "True\n",
      "True\n",
      "True\n",
      "True\n"
     ]
    }
   ],
   "source": [
    "#Task\n",
    "\n",
    "#You are given a string S .\n",
    "#Your task is to find out if the string S  \n",
    "#contains: alphanumeric characters, alphabetical characters, digits, lowercase and uppercase characters.\n",
    "\n",
    "if __name__ == '__main__':\n",
    "    s = input()\n",
    "    print(any(c.isalnum() for c in s))\n",
    "    print(any(c.isalpha() for c in s))\n",
    "    print(any(c.isdigit() for c in s))\n",
    "    print(any(c.islower() for c in s))\n",
    "    print(any(c.isupper() for c in s))"
   ]
  },
  {
   "cell_type": "code",
   "execution_count": 11,
   "id": "c26f5d94",
   "metadata": {},
   "outputs": [
    {
     "name": "stdout",
     "output_type": "stream",
     "text": [
      "Enter a number: 5\n",
      "    H    \n",
      "   HHH   \n",
      "  HHHHH  \n",
      " HHHHHHH \n",
      "HHHHHHHHH\n",
      "  HHHHH               HHHHH             \n",
      "  HHHHH               HHHHH             \n",
      "  HHHHH               HHHHH             \n",
      "  HHHHH               HHHHH             \n",
      "  HHHHH               HHHHH             \n",
      "  HHHHH               HHHHH             \n",
      "  HHHHHHHHHHHHHHHHHHHHHHHHH   \n",
      "  HHHHHHHHHHHHHHHHHHHHHHHHH   \n",
      "  HHHHHHHHHHHHHHHHHHHHHHHHH   \n",
      "  HHHHH               HHHHH             \n",
      "  HHHHH               HHHHH             \n",
      "  HHHHH               HHHHH             \n",
      "  HHHHH               HHHHH             \n",
      "  HHHHH               HHHHH             \n",
      "  HHHHH               HHHHH             \n",
      "                    HHHHHHHHH \n",
      "                     HHHHHHH  \n",
      "                      HHHHH   \n",
      "                       HHH    \n",
      "                        H     \n"
     ]
    }
   ],
   "source": [
    "#Task\n",
    "\n",
    "#You are given a partial code that is used for generating the HackerRank Logo of variable thickness.\n",
    "#Your task is to replace the blank (______) with rjust, ljust or center.\n",
    "\n",
    "thickness = int(input('Enter a number: '))\n",
    "c = 'H'\n",
    "\n",
    "for i in range(thickness):\n",
    "    print((c*i).rjust(thickness-1)+c+(c*i).ljust(thickness-1))\n",
    "\n",
    "for i in range(thickness+1):\n",
    "    print((c*thickness).center(thickness*2)+(c*thickness).center(thickness*6))\n",
    "\n",
    "for i in range((thickness+1)//2):\n",
    "    print((c*thickness*5).center(thickness*6))    \n",
    "\n",
    "for i in range(thickness+1):\n",
    "    print((c*thickness).center(thickness*2)+(c*thickness).center(thickness*6))    \n",
    "\n",
    "for i in range(thickness):\n",
    "    print(((c*(thickness-i-1)).rjust(thickness)+c+(c*(thickness-i-1)).ljust(thickness)).rjust(thickness*6))\n",
    "    "
   ]
  },
  {
   "cell_type": "code",
   "execution_count": 13,
   "id": "81f46b0d",
   "metadata": {},
   "outputs": [
    {
     "name": "stdout",
     "output_type": "stream",
     "text": [
      "Enter a string: ABCDEFGHIJKLMNOPQRSTUVWXYZ\n",
      "Enter a number to wrap the string: 4\n",
      "ABCD\n",
      "EFGH\n",
      "IJKL\n",
      "MNOP\n",
      "QRST\n",
      "UVWX\n",
      "YZ\n"
     ]
    }
   ],
   "source": [
    "#You are given a string S and width w .\n",
    "#Your task is to wrap the string into a paragraph of width w .\n",
    "\n",
    "#Function Description\n",
    "#Complete the wrap function in the editor below.\n",
    "\n",
    "#wrap has the following parameters:\n",
    "\n",
    "#string string: a long string\n",
    "#int max_width: the width to wrap to\n",
    "#Returns\n",
    "\n",
    "#string: a single string with newline characters ('\\n') where the breaks should be\n",
    "#Input Format\n",
    "\n",
    "#The first line contains a string,S.\n",
    "#The second line contains the width w\n",
    "\n",
    "import textwrap\n",
    "str = input('Enter a string: ')\n",
    "n = int(input('Enter a number to wrap the string: '))\n",
    "print(textwrap.fill(str, n))"
   ]
  },
  {
   "cell_type": "code",
   "execution_count": 1,
   "id": "4d8711c5",
   "metadata": {},
   "outputs": [
    {
     "name": "stdout",
     "output_type": "stream",
     "text": [
      "Enter dimensions: 8 24\n",
      "----------.|.-----------\n",
      "-------.|..|..|.--------\n",
      "----.|..|..|..|..|.-----\n",
      "-.|..|..|..|..|..|..|.--\n",
      "--------WELCOME---------\n",
      "---.|..|..|..|..|..|.---\n",
      "------.|..|..|..|.------\n",
      "---------.|..|.---------\n",
      "------------------------\n"
     ]
    }
   ],
   "source": [
    "#Mr. Vincent works in a door mat manufacturing company. One day, he designed a new door mat with the following specifications:\n",
    "\n",
    "#Mat size must be N X M X N. ( is an odd natural number, and M is 3 times N .)\n",
    "#The design should have 'WELCOME' written in the center.\n",
    "#The design pattern should only use |, . and - characters.\n",
    "\n",
    "N, M = map(int,input('Enter dimensions: ').split())\n",
    "for i in range(1,N,2): \n",
    "    print(('.|.' * i).center(N*3, '-'))\n",
    "print('WELCOME'.center(N*3, '-'))\n",
    "for i in range(N-2,-1,-2): \n",
    "    print(('.|.' * i).center(N*3, '-'))"
   ]
  },
  {
   "cell_type": "code",
   "execution_count": 6,
   "id": "6e661eba",
   "metadata": {},
   "outputs": [
    {
     "name": "stdout",
     "output_type": "stream",
     "text": [
      "Enter an integer: 17\n",
      "    1     1     1     1\n",
      "    2     2     2    10\n",
      "    3     3     3    11\n",
      "    4     4     4   100\n",
      "    5     5     5   101\n",
      "    6     6     6   110\n",
      "    7     7     7   111\n",
      "    8    10     8  1000\n",
      "    9    11     9  1001\n",
      "   10    12     A  1010\n",
      "   11    13     B  1011\n",
      "   12    14     C  1100\n",
      "   13    15     D  1101\n",
      "   14    16     E  1110\n",
      "   15    17     F  1111\n",
      "   16    20    10 10000\n",
      "   17    21    11 10001\n"
     ]
    }
   ],
   "source": [
    "#Given an integer,n , print the following values for each integer i from 1 to n:\n",
    "\n",
    "#Decimal\n",
    "#Octal\n",
    "#Hexadecimal (capitalized)\n",
    "#Binary\n",
    "#Function Description\n",
    "\n",
    "#Complete the print_formatted function in the editor below.\n",
    "\n",
    "#print_formatted has the following parameters:\n",
    "\n",
    "#int number: the maximum value to print\n",
    "\n",
    "n = int(input('Enter an integer: '))\n",
    "width = len(\"{0:b}\".format(n))\n",
    "for i in range(1,n+1):\n",
    "    print(\"{0:{width}d} {0:{width}o} {0:{width}X} {0:{width}b}\".format(i, width=width))"
   ]
  },
  {
   "cell_type": "code",
   "execution_count": 10,
   "id": "ba29d606",
   "metadata": {},
   "outputs": [
    {
     "name": "stdout",
     "output_type": "stream",
     "text": [
      "Enter size: 9\n",
      "----------------i----------------\n",
      "--------------i-h-i--------------\n",
      "------------i-h-g-h-i------------\n",
      "----------i-h-g-f-g-h-i----------\n",
      "--------i-h-g-f-e-f-g-h-i--------\n",
      "------i-h-g-f-e-d-e-f-g-h-i------\n",
      "----i-h-g-f-e-d-c-d-e-f-g-h-i----\n",
      "--i-h-g-f-e-d-c-b-c-d-e-f-g-h-i--\n",
      "i-h-g-f-e-d-c-b-a-b-c-d-e-f-g-h-i\n",
      "--i-h-g-f-e-d-c-b-c-d-e-f-g-h-i--\n",
      "----i-h-g-f-e-d-c-d-e-f-g-h-i----\n",
      "------i-h-g-f-e-d-e-f-g-h-i------\n",
      "--------i-h-g-f-e-f-g-h-i--------\n",
      "----------i-h-g-f-g-h-i----------\n",
      "------------i-h-g-h-i------------\n",
      "--------------i-h-i--------------\n",
      "----------------i----------------\n"
     ]
    }
   ],
   "source": [
    "#You are given an integer,N . Your task is to print an alphabet rangoli of size N. \n",
    "#(Rangoli is a form of Indian folk art based on creation of patterns.)\n",
    "\n",
    "#Different sizes of alphabet rangoli are shown below:\n",
    "\n",
    "import string\n",
    "alpha = string.ascii_lowercase\n",
    "\n",
    "n = int(input('Enter size: '))\n",
    "L = []\n",
    "for i in range(n):\n",
    "    s = \"-\".join(alpha[i:n])\n",
    "    L.append((s[::-1]+s[1:]).center(4*n-3, \"-\"))\n",
    "print('\\n'.join(L[:0:-1]+L))"
   ]
  },
  {
   "cell_type": "code",
   "execution_count": 3,
   "id": "58314ee6",
   "metadata": {},
   "outputs": [
    {
     "name": "stdout",
     "output_type": "stream",
     "text": [
      "Enter a string: chris alan\n",
      "Chris Alan\n"
     ]
    }
   ],
   "source": [
    "#You are asked to ensure that the first and last names of people begin with a capital letter in their passports. \n",
    "#For example, alison heck should be capitalised correctly as Alison Heck.\n",
    "\n",
    "# alison heck = Alison Heck\n",
    "\n",
    "#Given a full name, your task is to capitalize the name appropriately.\n",
    "#Input Format\n",
    "#A single line of input containing the full name,S .\n",
    "\n",
    "s = input('Enter a string: ')\n",
    "for x in s[:].split():\n",
    "    s = s.replace(x, x.capitalize())\n",
    "print(s)"
   ]
  },
  {
   "cell_type": "code",
   "execution_count": 1,
   "id": "b8218083",
   "metadata": {},
   "outputs": [
    {
     "name": "stdout",
     "output_type": "stream",
     "text": [
      "Enter a string: BANANA\n",
      "Stuart 12\n"
     ]
    }
   ],
   "source": [
    "# Kevin and Stuart want to play the 'The Minion Game'.\n",
    "\n",
    "#Game Rules\n",
    "\n",
    "#Both players are given the same string,S .\n",
    "#Both players have to make substrings using the letters of the string S .\n",
    "#Stuart has to make words starting with consonants.\n",
    "#Kevin has to make words starting with vowels.\n",
    "#The game ends when both players have made all possible substrings.\n",
    "\n",
    "#Scoring\n",
    "#A player gets +1 point for each occurrence of the substring in the string S.\n",
    "\n",
    "s = input('Enter a string: ')\n",
    "sc = [0, 0]\n",
    "for i in range (len (s)):\n",
    "    sc [s [i] in 'AEIOU'] += len (s) - i\n",
    "if sc [0] > sc [1]: \n",
    "    print ('Stuart', sc [0])\n",
    "elif sc [1] > sc [0]:\n",
    "    print ('Kevin', sc [1])\n",
    "else: \n",
    "    print ('Draw')"
   ]
  },
  {
   "cell_type": "code",
   "execution_count": 2,
   "id": "fe9a124b",
   "metadata": {},
   "outputs": [
    {
     "name": "stdout",
     "output_type": "stream",
     "text": [
      "Enter a string: AABCAAADA\n",
      "Enter a number: 3\n",
      "AD\n"
     ]
    }
   ],
   "source": [
    "#Consider the following:\n",
    "\n",
    "#A string,s , of length n where s=c0+c1+....cn-1 .\n",
    "#An integer,k , where k is a factor of n.\n",
    "#We can split s into n/k substrings where each subtring,ti , consists of a contiguous block of  k characters in s . \n",
    "#Then, use each ti to create string ui  such that:\n",
    "\n",
    "#The characters in ui are a subsequence of the characters in ti .\n",
    "#Any repeat occurrence of a character is removed from the string such that each character in ui occurs exactly once.\n",
    "#In other words, if the character at some index j in ti occurs at a previous index <j in ti, then do not include the character in string ui.\n",
    "#Given s and k, print n/k lines where each line i denotes ui string \n",
    "\n",
    "s=input('Enter a string: ')\n",
    "k=int(input('Enter a number: '))\n",
    "ln=len(s)\n",
    "\n",
    "for i in range(0,ln,k):\n",
    "    ss=s[i:i+k]\n",
    "    sss=[]\n",
    "    for x in ss:\n",
    "        if x not in sss:\n",
    "            sss.append(x)\n",
    "\n",
    "print(''.join(sss))"
   ]
  }
 ],
 "metadata": {
  "kernelspec": {
   "display_name": "Python 3",
   "language": "python",
   "name": "python3"
  },
  "language_info": {
   "codemirror_mode": {
    "name": "ipython",
    "version": 3
   },
   "file_extension": ".py",
   "mimetype": "text/x-python",
   "name": "python",
   "nbconvert_exporter": "python",
   "pygments_lexer": "ipython3",
   "version": "3.6.10"
  }
 },
 "nbformat": 4,
 "nbformat_minor": 5
}
