{
 "cells": [
  {
   "cell_type": "code",
   "execution_count": 1,
   "id": "e1d0ce6d",
   "metadata": {},
   "outputs": [
    {
     "name": "stdout",
     "output_type": "stream",
     "text": [
      "1\n",
      "1\n",
      "2\n",
      "3\n",
      "[[0, 0, 0], [0, 0, 1], [0, 0, 2], [0, 1, 0], [0, 1, 1], [1, 0, 0], [1, 0, 1], [1, 1, 0], [1, 1, 2]]\n"
     ]
    }
   ],
   "source": [
    "# Let's learn about list comprehensions! You are given three integers x,y and z.  representing the dimensions of a cuboid \n",
    "# along with an integer n . Print a list of all possible coordinates given by (i,j,k)  on a 3D grid where the sum of i+j+k is not equal to n . \n",
    "# Here,0<=i<=x, 0<=j<=y,0<=k<=z . Please use list comprehensions rather than multiple loops, as a learning exercise.\n",
    "\n",
    "# Example\n",
    "# x=1\n",
    "# y=1\n",
    "# z=2\n",
    "# n=3\n",
    "\n",
    "x = int(input())\n",
    "y = int(input())\n",
    "z = int(input())\n",
    "n = int(input())\n",
    "\n",
    "print([[i,j,k] for i in range(x+1) for j in range(y+1) for k in range(z+1) if sum([i,j,k]) != n])"
   ]
  },
  {
   "cell_type": "code",
   "execution_count": 2,
   "id": "9fec939f",
   "metadata": {},
   "outputs": [
    {
     "name": "stdout",
     "output_type": "stream",
     "text": [
      "5\n",
      "2 3 4 5 6\n",
      "5\n"
     ]
    }
   ],
   "source": [
    "# Given the participants' score sheet for your University Sports Day, \n",
    "# you are required to find the runner-up score. You are given n scores. \n",
    "# Store them in a list and find the score of the runner-up.\n",
    "\n",
    "n = int(input())\n",
    "arr = map(int, input().split())\n",
    "print(sorted(list(set(arr)))[-2])"
   ]
  },
  {
   "cell_type": "code",
   "execution_count": 1,
   "id": "828050ca",
   "metadata": {},
   "outputs": [
    {
     "name": "stdout",
     "output_type": "stream",
     "text": [
      "3\n",
      "alpha\n",
      "20.0\n",
      "beta\n",
      "10.0\n",
      "gamma\n",
      "30.0\n",
      "alpha\n"
     ]
    }
   ],
   "source": [
    "# Nested lists\n",
    "# Given the names and grades for each student in a class of N students, \n",
    "# store them in a nested list and print the name(s) of any student(s) having the second lowest grade.\n",
    "\n",
    "# Note: If there are multiple students with the second lowest grade, order their names alphabetically \n",
    "# and print each name on a new line.\n",
    "\n",
    "\n",
    "d={} \n",
    "for i in range(int(input())): \n",
    "    Name=input() \n",
    "    Grade=float(input()) \n",
    "    d[Name]=Grade \n",
    "v=d.values()\n",
    "second=sorted(list(set(v)))[1] \n",
    "second_lowest=[] \n",
    "for key,value in d.items():  \n",
    "    if value==second:\n",
    "        second_lowest.append(key) \n",
    "second_lowest.sort() \n",
    "for name in second_lowest: \n",
    "    print(name)"
   ]
  },
  {
   "cell_type": "code",
   "execution_count": 3,
   "id": "4c2ecfef",
   "metadata": {},
   "outputs": [
    {
     "name": "stdout",
     "output_type": "stream",
     "text": [
      "3\n",
      "krishna 30 40 20\n",
      "raja 60 40 70\n",
      "raju 50 30 20\n",
      "krishna\n",
      "30.00\n"
     ]
    }
   ],
   "source": [
    "# The provided code stub will read in a dictionary containing key/value pairs of name:[marks] for a list of students. \n",
    "# Print the average of the marks array for the student name provided, showing 2 places after the decimal\n",
    "\n",
    "n = int(input())\n",
    "student_marks = {}\n",
    "for i in range(n):\n",
    "    name, *line = input().split()\n",
    "    scores = list(map(float, line))\n",
    "    student_marks[name] = scores\n",
    "query_name = input()\n",
    "total_marks = sum(student_marks[query_name])\n",
    "average_marks = total_marks/3 \n",
    "print(\"%.2f\"%(average_marks))"
   ]
  },
  {
   "cell_type": "code",
   "execution_count": 1,
   "id": "50cb4e61",
   "metadata": {},
   "outputs": [
    {
     "name": "stdout",
     "output_type": "stream",
     "text": [
      "12\n",
      "insert 0 5\n",
      "insert 1 10\n",
      "insert 0 6\n",
      "print\n",
      "[6, 5, 10]\n",
      "remove 6\n",
      "append 9\n",
      "append 1\n",
      "sort \n",
      "print\n",
      "[1, 5, 9, 10]\n",
      "pop\n",
      "reverse\n",
      "print\n",
      "[9, 5, 1]\n"
     ]
    }
   ],
   "source": [
    "# Consider a list (list = []). You can perform the following commands:\n",
    "\n",
    "# insert i e: Insert integer e at position i.\n",
    "# print: Print the list.\n",
    "# remove e: Delete the first occurrence of integer e .\n",
    "# append e: Insert integer e at the end of the list.\n",
    "# sort: Sort the list.\n",
    "# pop: Pop the last element from the list.\n",
    "# reverse: Reverse the list.\n",
    "# Initialize your list and read in the value of n followed by n lines of commands where each command will be of the  \n",
    "# 7 types listed above. Iterate through each command in order \n",
    "# and perform the corresponding operation on your list.\n",
    "\n",
    "N = int(input())\n",
    "lis=list()\n",
    "for i in range(N):\n",
    "    s=input().strip().split(\" \")\n",
    "    if s[0]==\"insert\":\n",
    "        lis.insert(int(s[1]),int(s[2]))\n",
    "    if s[0]==\"print\":\n",
    "        print(lis)\n",
    "    if s[0]==\"remove\":\n",
    "        lis.remove(int(s[1]))\n",
    "    if s[0]==\"append\":\n",
    "        lis.append(int(s[1]))\n",
    "    if s[0]==\"sort\":\n",
    "        lis.sort()\n",
    "    if s[0]==\"pop\":\n",
    "        lis.pop()\n",
    "    if s[0]==\"reverse\":\n",
    "        lis.reverse()"
   ]
  },
  {
   "cell_type": "code",
   "execution_count": 6,
   "id": "6079d09b",
   "metadata": {},
   "outputs": [
    {
     "name": "stdout",
     "output_type": "stream",
     "text": [
      "2\n",
      "1 2\n",
      "3713081631934410656\n"
     ]
    }
   ],
   "source": [
    "# Task\n",
    "# Given an integer,n , and n space-separated integers as input, create a tuple, t, of those n integers. Then compute and print the result of\n",
    "# hash(t).\n",
    "\n",
    "# Note: hash() is one of the functions in the __builtins__ module, so it need not be imported.\n",
    "\n",
    "n = int(input())\n",
    "vals = input().split()\n",
    "list = []\n",
    "for i in range (0, n):\n",
    "    list.append(int(vals[i]))\n",
    "\n",
    "print(hash(tuple(list)))"
   ]
  },
  {
   "cell_type": "code",
   "execution_count": 12,
   "id": "52bc8497",
   "metadata": {},
   "outputs": [
    {
     "name": "stdout",
     "output_type": "stream",
     "text": [
      "10\n",
      "12 13 14 15 16 17 18 19 20 21 \n",
      "16.5\n"
     ]
    }
   ],
   "source": [
    "# A set is an unordered collection of elements without duplicate entries.\n",
    "# When printed, iterated or converted into a sequence, its elements will appear in an arbitrary order.\n",
    "\n",
    "# Task\n",
    "# Now, let's use our knowledge of sets and help Mickey.\n",
    "# Ms. Gabriel Williams is a botany professor at District College. One day, she asked her student Mickey to \n",
    "# compute the average of all the plants with distinct heights in her greenhouse.\n",
    "\n",
    "# Formula used:\n",
    "# Average=sum of distinct heights/total number of distinct heights\n",
    "\n",
    "# Function Description\n",
    "# Complete the average function in the editor below.\n",
    "# average has the following parameters:\n",
    "#int arr: an array of integer\n",
    "\n",
    "\n",
    "N = int(input())\n",
    "list = map(int, input().split())\n",
    "set = set(list)\n",
    "sum = 0.0\n",
    "for height in set:\n",
    "    sum += height\n",
    "average = sum / float(len(set))\n",
    "print(average)"
   ]
  },
  {
   "cell_type": "code",
   "execution_count": 2,
   "id": "06f14d46",
   "metadata": {},
   "outputs": [
    {
     "name": "stdout",
     "output_type": "stream",
     "text": [
      "3 2\n",
      "1 5 3\n",
      "3 1\n",
      "5 7\n",
      "1\n"
     ]
    }
   ],
   "source": [
    "##### There is an array of n integers. There are also 2 disjoint sets,A  and  B, each containing m integers. \n",
    "# You like all the integers in set A and dislike all the integers in set B. Your initial happiness is 0 . \n",
    "# For each i integer in the array, if i=A , you add 1 to your happiness. If i=B, you add -1 to your happiness. \n",
    "# Otherwise, your happiness does not change. Output your final happiness at the end.\n",
    "\n",
    "# Note: Since A and B are sets, they have no repeated elements. However, the array might contain duplicate elements.\n",
    "\n",
    "\n",
    "n, m = input().split()\n",
    "arr = [int(x) for x in input().split()]\n",
    "A = set([int(y) for y in input().split()])\n",
    "B = set([int(z) for z in input().split()])\n",
    "count = [1 if x in A else -1 if x in B else 0 for x in arr]\n",
    "print(sum(count))\n"
   ]
  },
  {
   "cell_type": "code",
   "execution_count": 5,
   "id": "2bb3b3d0",
   "metadata": {},
   "outputs": [
    {
     "name": "stdout",
     "output_type": "stream",
     "text": [
      "4\n",
      "2 4 5 9\n",
      "4\n",
      "2 4 11 12\n",
      "5\n",
      "9\n",
      "11\n",
      "12\n"
     ]
    }
   ],
   "source": [
    "# Task\n",
    "# Given 2 sets of integers, M and N , print their symmetric difference in ascending order. \n",
    "# The term symmetric difference indicates those values that exist in either M or N but do not exist in both.\n",
    "\n",
    "# Symmetric difference\n",
    "\n",
    "a,b=(int(input()),input().split())\n",
    "c,d=(int(input()),input().split())\n",
    "x=set(b)\n",
    "y=set(d)\n",
    "p=y.difference(x)\n",
    "q=x.difference(y)\n",
    "r=p.union(q)\n",
    "print ('\\n'.join(sorted(r, key=int)))"
   ]
  },
  {
   "cell_type": "code",
   "execution_count": 8,
   "id": "9f6f5c96",
   "metadata": {},
   "outputs": [
    {
     "name": "stdout",
     "output_type": "stream",
     "text": [
      "5\n",
      "UK\n",
      "US\n",
      "FRANCE\n",
      "MEXICO\n",
      "US\n",
      "4\n"
     ]
    }
   ],
   "source": [
    "\n",
    "# Task\n",
    "\n",
    "# Apply your knowledge of the .add() operation to help your friend Rupal.\n",
    "\n",
    "# Rupal has a huge collection of country stamps. She decided to count the total number of distinct country stamps in her \n",
    "# collection. She asked for your help. You pick the stamps one by one from a stack of N country stamps.\n",
    "\n",
    "# Find the total number of distinct country stamps.\n",
    "\n",
    "num = int(input())\n",
    "dist = set()\n",
    "for i in range(int(num)):\n",
    "    dist.add(input())\n",
    "print(len(dist))"
   ]
  },
  {
   "cell_type": "code",
   "execution_count": 1,
   "id": "dd4585a7",
   "metadata": {},
   "outputs": [
    {
     "name": "stdout",
     "output_type": "stream",
     "text": [
      "9\n",
      "1 2 3 4 5 6 7 8 9\n",
      "10\n",
      "pop\n",
      "remove 9\n",
      "discard 9\n",
      "discard 8\n",
      "remove 7\n",
      "pop\n",
      "discard 6\n",
      "remove 5\n",
      "pop\n",
      "discard 5\n",
      "4\n"
     ]
    }
   ],
   "source": [
    "# Task\n",
    "# You have a non-empty set 8 , and you have to execute N  commands given in N lines.\n",
    "\n",
    "# The commands will be pop, remove and discard.\n",
    "\n",
    "n=int(input())\n",
    "s = set(map(int,input().split()))\n",
    "N=int(input())\n",
    "for i in range(N):\n",
    "    choice=input().split()\n",
    "    if choice[0]==\"pop\" :\n",
    "        s.pop()\n",
    "    elif choice[0]==\"remove\":\n",
    "        s.remove(int(choice[1]))\n",
    "    elif choice[0]==\"discard\":\n",
    "        s.discard(int(choice[1]))\n",
    "print(sum(s))"
   ]
  },
  {
   "cell_type": "code",
   "execution_count": 2,
   "id": "a5b4faf3",
   "metadata": {},
   "outputs": [
    {
     "name": "stdout",
     "output_type": "stream",
     "text": [
      "9\n",
      "1 2 3 4 5 6 7 8 9\n",
      "9\n",
      "10 1 2 3 11 21 55 6 8\n",
      "13\n"
     ]
    }
   ],
   "source": [
    "# Task\n",
    "# The students of District College have subscriptions to English and French newspapers. Some students have subscribed \n",
    "# only to English, some have subscribed to only French and some have subscribed to both newspapers.\n",
    "\n",
    "# You are given two sets of student roll numbers. One set has subscribed to the English newspaper, \n",
    "# and the other set is subscribed to the French newspaper. The same student could be in both sets. \n",
    "# Your task is to find the total number of students \n",
    "# who have subscribed to at least one newspaper.\n",
    "\n",
    "n=input()\n",
    "s1=set(map(int, input().split()))\n",
    "n=input()\n",
    "s2=set(map(int, input().split()))\n",
    "print(len(s1.union(s2)))"
   ]
  },
  {
   "cell_type": "code",
   "execution_count": 3,
   "id": "3ba07093",
   "metadata": {},
   "outputs": [
    {
     "name": "stdout",
     "output_type": "stream",
     "text": [
      "9\n",
      "1 2 3 4 5 6 7 8 9\n",
      "9\n",
      "10 1 2 3 11 21 55 6 8\n",
      "5\n"
     ]
    }
   ],
   "source": [
    "#Task\n",
    "#The students of District College have subscriptions to English and French newspapers. \n",
    "#Some students have subscribed only to English, some have subscribed only to French,\n",
    "#and some have subscribed to both newspapers.\n",
    "\n",
    "#You are given two sets of student roll numbers. One set has subscribed to the English newspaper, \n",
    "#one set has subscribed to the French newspaper. Your task is to find the total number of students \n",
    "#who have subscribed to both newspapers.\n",
    "\n",
    "n=input()\n",
    "s1=set(map(int, input().split()))\n",
    "n=input()\n",
    "s2=set(map(int, input().split()))\n",
    "print(len(s1.intersection(s2)))"
   ]
  },
  {
   "cell_type": "code",
   "execution_count": 4,
   "id": "8cbd4feb",
   "metadata": {},
   "outputs": [
    {
     "name": "stdout",
     "output_type": "stream",
     "text": [
      "9\n",
      "1 2 3 4 5 6 7 8 9\n",
      "9\n",
      "10 1 2 3 11 21 55 6 8\n",
      "4\n"
     ]
    }
   ],
   "source": [
    "#Task\n",
    "#Students of District College have a subscription to English and French newspapers. \n",
    "#Some students have subscribed to only the English newspaper, \n",
    "#some have subscribed to only the French newspaper, and \n",
    "#some have subscribed to both newspapers.\n",
    "\n",
    "#You are given two sets of student roll numbers. One set has subscribed to the English newspaper, \n",
    "#and one set has subscribed to the French newspaper. Your task is to find the total number of students who have \n",
    "#subscribed to only English newspapers.\n",
    "\n",
    "n=input()\n",
    "s1=set(map(int, input().split()))\n",
    "n=input()\n",
    "s2=set(map(int, input().split()))\n",
    "print(len(s1.difference(s2)))"
   ]
  },
  {
   "cell_type": "code",
   "execution_count": 5,
   "id": "650d78a2",
   "metadata": {},
   "outputs": [
    {
     "name": "stdout",
     "output_type": "stream",
     "text": [
      "9\n",
      "1 2 3 4 5 6 7 8 9 \n",
      "9\n",
      "10 1 2 3 11 21 55 6 8\n",
      "8\n"
     ]
    }
   ],
   "source": [
    "# Task\n",
    "#Students of District College have subscriptions to English and French newspapers.\n",
    "#Some students have subscribed to English only, some have subscribed to French only,\n",
    "#and some have subscribed to both newspapers.\n",
    "\n",
    "#You are given two sets of student roll numbers. One set has subscribed to the English newspaper, \n",
    "#and one set has subscribed to the French newspaper. Your task is to find the total number of students \n",
    "#who have subscribed to either the English or the French newspaper but not both.\n",
    "\n",
    "n=input()\n",
    "s1=set(map(int, input().split()))\n",
    "n=input()\n",
    "s2=set(map(int, input().split()))\n",
    "print(len(s1.symmetric_difference(s2)))"
   ]
  },
  {
   "cell_type": "code",
   "execution_count": 2,
   "id": "28e2465f",
   "metadata": {},
   "outputs": [
    {
     "name": "stdout",
     "output_type": "stream",
     "text": [
      "16\n",
      "1 2 3 4 5 6 7 8 9 10 11 12 13 14 24 52\n",
      "4\n",
      "intersection_update 10\n",
      "2 3 5 6 8 9 1 4 7 11\n",
      "update 2\n",
      "55 66\n",
      "difference_update 7\n",
      "11 22 35 55 58 62 66\n",
      "symmetric_difference_update 5\n",
      "22 7 35 62 58\n",
      "215\n"
     ]
    }
   ],
   "source": [
    "# TASK\n",
    "#You are given a set A and N. number of other sets. \n",
    "#These N number of sets have to perform some specific mutation operations on set A .\n",
    "\n",
    "#Your task is to execute those operations and print the sum of elements from set A .\n",
    "\n",
    "input()\n",
    "set1=set(map(int,input().split()))\n",
    "n=int(input())\n",
    "\n",
    "\n",
    "for i in range(0,n):\n",
    "   \n",
    "    op=input().split()[0]\n",
    "    set2=set(map(int,input().split()))\n",
    "    if op==\"intersection_update\":\n",
    "        set1.intersection_update(set2)\n",
    "    if op==\"update\":\n",
    "        set1.update(set2)\n",
    "    if op==\"difference_update\":\n",
    "        set1.difference_update(set2)\n",
    "    if op==\"symmetric_difference_update\":\n",
    "        set1.symmetric_difference_update(set2)\n",
    "    \n",
    "print(sum(set1)) "
   ]
  },
  {
   "cell_type": "code",
   "execution_count": 5,
   "id": "c43ebb12",
   "metadata": {},
   "outputs": [
    {
     "name": "stdout",
     "output_type": "stream",
     "text": [
      "5\n",
      "1 3 3 6 5 4 4 11 5 7 8 9 5 6 9 0 1 2 3 4 5\n",
      "11\n"
     ]
    }
   ],
   "source": [
    "# Mr. Anant Asankhya is the manager at the INFINITE hotel. The hotel has an infinite amount of rooms.\n",
    "\n",
    "#One fine day, a finite number of tourists come to stay at the hotel.\n",
    "#The tourists consist of:\n",
    "#→ A Captain.\n",
    "#→ An unknown group of families consisting of K members per group where K ≠ 1.\n",
    "\n",
    "#The Captain was given a separate room, and the rest were given one room per group.\n",
    "\n",
    "#Mr. Anant has an unordered list of randomly arranged room entries. The list consists of the room numbers for all of \n",
    "# the tourists. The room numbers will appear K times per group except for the Captain's room.\n",
    "\n",
    "#Mr. Anant needs you to help him find the Captain's room number.\n",
    "#The total number of tourists or the total number of groups of families is not known to you.\n",
    "#You only know the value of K and the room number list.\n",
    "\n",
    "K = int(input())\n",
    "nums = map(int, input().split())\n",
    "\n",
    "counts = {}\n",
    "for n in nums:\n",
    "    if n in counts:\n",
    "        counts[n] += 1\n",
    "    else:\n",
    "        counts[n] = 1\n",
    "for n in counts:\n",
    "    if counts[n] == 1:\n",
    "        print(n)\n",
    "        break"
   ]
  },
  {
   "cell_type": "code",
   "execution_count": 1,
   "id": "95828181",
   "metadata": {},
   "outputs": [
    {
     "name": "stdout",
     "output_type": "stream",
     "text": [
      "3\n",
      "5\n",
      "1\n",
      "False\n",
      "4 5\n",
      "5 6\n",
      "False\n",
      "3\n",
      "5 \n",
      "False\n"
     ]
    }
   ],
   "source": [
    "#You are given two sets, A and B .\n",
    "#Your job is to find whether set A is a subset of set B .\n",
    "\n",
    "#If set A is subset of set B , print True.\n",
    "#If set A is not a subset of set B , print False.\n",
    "\n",
    "for i in range(int(input())): \n",
    "    A = set(input().split())\n",
    "    B = set(input().split())\n",
    "    print(A.issubset(B))"
   ]
  },
  {
   "cell_type": "code",
   "execution_count": 4,
   "id": "db1f9a4c",
   "metadata": {},
   "outputs": [
    {
     "name": "stdout",
     "output_type": "stream",
     "text": [
      "1 2 3 4 5 6 7 8 9 10 11 12 13 14 52 48\n",
      "2\n",
      "1 2 3 4 5\n",
      "100 11 12\n",
      "False\n"
     ]
    }
   ],
   "source": [
    "# You are given a set A and n other sets.\n",
    "#Your job is to find whether set A is a strict superset of each of the N sets.\n",
    "\n",
    "#Print True, if A is a strict superset of each of the N sets. Otherwise, print False.\n",
    "\n",
    "#A strict superset has at least one element that does not exist in its subset.\n",
    "\n",
    "A = set(input().split())\n",
    "n = int(input())\n",
    "flag = \"True\"\n",
    "for i in range(n):\n",
    "    mySet = set(input().split())\n",
    "    if len(mySet) == len(A) or len(mySet - A) > 0:\n",
    "        flag = \"False\"\n",
    "print(flag)"
   ]
  }
 ],
 "metadata": {
  "kernelspec": {
   "display_name": "Python 3",
   "language": "python",
   "name": "python3"
  },
  "language_info": {
   "codemirror_mode": {
    "name": "ipython",
    "version": 3
   },
   "file_extension": ".py",
   "mimetype": "text/x-python",
   "name": "python",
   "nbconvert_exporter": "python",
   "pygments_lexer": "ipython3",
   "version": "3.6.10"
  }
 },
 "nbformat": 4,
 "nbformat_minor": 5
}
