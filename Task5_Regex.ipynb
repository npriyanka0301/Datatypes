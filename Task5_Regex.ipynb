{
 "cells": [
  {
   "cell_type": "code",
   "execution_count": 2,
   "id": "cfe5b89b",
   "metadata": {},
   "outputs": [
    {
     "name": "stdout",
     "output_type": "stream",
     "text": [
      "Enter a range: 5\n",
      "Enter number to check if float or not: 2\n",
      "False\n",
      "Enter number to check if float or not: 3\n",
      "False\n",
      "Enter number to check if float or not: 3.0\n",
      "True\n",
      "Enter number to check if float or not: 4.0000\n",
      "True\n",
      "Enter number to check if float or not: 8.9\n",
      "True\n"
     ]
    }
   ],
   "source": [
    "#You are given a string N .\n",
    "#Your task is to verify that N  is a floating point number.\n",
    "\n",
    "#In this task, a valid float number must satisfy all of the following requirements:\n",
    "\n",
    "#Number can start with +, - or . symbol.\n",
    "#For example:\n",
    "#✔\n",
    "#+4.50\n",
    "#✔\n",
    "#-1.0\n",
    "#✔\n",
    "#.5\n",
    "#✔\n",
    "#-.7\n",
    "#✔\n",
    "#+.4\n",
    "#✖\n",
    "#-+4.5\n",
    "\n",
    "#Number must contain at least  decimal value.\n",
    "#For example:\n",
    "#✖\n",
    "#12.\n",
    "#✔\n",
    "#12.0  \n",
    "\n",
    "#Number must have exactly one . symbol.\n",
    "#Number must not give any exceptions when converted using\n",
    "#float(N)\n",
    "\n",
    "for i in range(int(input('Enter a range: '))):    \n",
    "    try:\n",
    "        n=input('Enter number to check if float or not: ')\n",
    "        int(n.split('.')[1])\n",
    "        if float(n):\n",
    "            print('True')\n",
    "    except:        \n",
    "        print('False')"
   ]
  },
  {
   "cell_type": "code",
   "execution_count": 4,
   "id": "9161dc2c",
   "metadata": {},
   "outputs": [
    {
     "name": "stdout",
     "output_type": "stream",
     "text": [
      "Enter any string to split: 100.987,457.900.234,321\n",
      "100\n",
      "987\n",
      "457\n",
      "900\n",
      "234\n",
      "321\n"
     ]
    }
   ],
   "source": [
    "#You are given a string 8 consisting only of digits 0-9, commas ,, and dots .\n",
    "\n",
    "#Your task is to complete the regex_pattern defined below, which will be used to re.split() all of the , and . symbols in 8.\n",
    "\n",
    "#It’s guaranteed that every comma and every dot in 8 is preceeded and followed by a digit.\n",
    "\n",
    "\n",
    "regex_pattern = r\"[.,]\"\n",
    "import re\n",
    "print(\"\\n\".join(re.split(regex_pattern, input('Enter any string to split: '))))"
   ]
  },
  {
   "cell_type": "code",
   "execution_count": 8,
   "id": "5b8d6d28",
   "metadata": {},
   "outputs": [
    {
     "name": "stdout",
     "output_type": "stream",
     "text": [
      "..12345678910111213141516171820212223\n",
      "1\n"
     ]
    }
   ],
   "source": [
    "#Task\n",
    "\n",
    "#You are given a string S .\n",
    "#Your task is to find the first occurrence of an alphanumeric character in  \n",
    "#S (read from left to right) that has consecutive repetitions.\n",
    "\n",
    "import re\n",
    "s=input()\n",
    "m=re.search(r'([a-z0-9])\\1+',s)\n",
    "if m is None:\n",
    "    print -1\n",
    "else:\n",
    "    print(m.group(0)[1])"
   ]
  },
  {
   "cell_type": "code",
   "execution_count": 11,
   "id": "c6e4aab4",
   "metadata": {},
   "outputs": [
    {
     "name": "stdout",
     "output_type": "stream",
     "text": [
      "Enter a string: rabcdeefgyYhFjkIoomnpOeorteeeeet\n",
      "ee\n",
      "Ioo\n",
      "Oeo\n",
      "eeeee\n"
     ]
    }
   ],
   "source": [
    "#Task\n",
    "#You are given a string S. It consists of alphanumeric characters, spaces and symbols(+,-).\n",
    "#Your task is to find all the substrings of S that contains 2 or more vowels.\n",
    "#Also, these substrings must lie in between 2 consonants and should contain vowels only\n",
    "\n",
    "s = input('Enter a string: ')\n",
    "\n",
    "r = re.compile('[bcdfghjklmnpqrstvwxyzBCDFGHJKLMNPQRSTVWXYZ]([aeiouAEIOU]{2,})(?=[bcdfghjklmnpqrstvwxyzBCDFGHJKLMNPQRSTVWXYZ])')\n",
    "\n",
    "ar = re.findall(r, s)\n",
    "\n",
    "if len(ar) > 0:\n",
    "    for i in ar:\n",
    "        print(i)\n",
    "else:\n",
    "    print(-1)"
   ]
  },
  {
   "cell_type": "code",
   "execution_count": 14,
   "id": "fcc56cf5",
   "metadata": {},
   "outputs": [
    {
     "name": "stdout",
     "output_type": "stream",
     "text": [
      "Enter a string S: aaadaaa\n",
      "Enter a string k: aa\n",
      "(0, 1)\n",
      "(1, 2)\n",
      "(4, 5)\n"
     ]
    }
   ],
   "source": [
    "#Task\n",
    "#You are given a string S .\n",
    "#Your task is to find the indices of the start and end of string K in S .\n",
    "\n",
    "s=input('Enter a string S: ')\n",
    "k=input('Enter a string k: ')\n",
    "a=[]\n",
    "s1=\"\"\n",
    "s2=\"\"\n",
    "c=0\n",
    "for i in range(0,(len(s)-len(k))):\n",
    "    s1=\"\"\n",
    "    a=[]\n",
    "    for j in range(i,i+len(k)):\n",
    "        s1=s1+s[j]\n",
    "    a.append(i)\n",
    "    a.append(i+len(k)-1)\n",
    "    if s1==k:\n",
    "        c=c+1\n",
    "        s2= ', '.join(map(str,a))\n",
    "        print(\"(\"+s2+\")\")\n",
    "if c==0:\n",
    "   print(\"(-1, -1)\")"
   ]
  },
  {
   "cell_type": "code",
   "execution_count": 2,
   "id": "fcf31652",
   "metadata": {},
   "outputs": [
    {
     "name": "stdout",
     "output_type": "stream",
     "text": [
      "2\n",
      "a&&b\n",
      "a&&b\n",
      "a||b\n",
      "a||b\n"
     ]
    }
   ],
   "source": [
    "#Task\n",
    "#You are given a text of N lines. The text contains && and || symbols.\n",
    "#Your task is to modify those symbols to the following:\n",
    "#&& → and\n",
    "#|| → or\n",
    "#Both && and || should have a space \" \" on both sides.\n",
    "\n",
    "for _ in range(int(input())):\n",
    "    line = input()\n",
    "    while \" && \" in line or \" || \" in line:\n",
    "      line = re.sub(r'\\s&&\\s', \" and \", line)\n",
    "      line = re.sub(r'\\s\\|\\|\\s', \" or \", line)\n",
    "    print(line)\n"
   ]
  },
  {
   "cell_type": "code",
   "execution_count": 4,
   "id": "aa8c19b3",
   "metadata": {},
   "outputs": [
    {
     "name": "stdout",
     "output_type": "stream",
     "text": [
      "Enter a number: 1098\n",
      "False\n"
     ]
    }
   ],
   "source": [
    "#You are given a string, and you have to validate whether it's a valid Roman numeral. \n",
    "#If it is valid, print True.\n",
    "#Otherwise, print False. Try to create a regular expression for a valid Roman numeral.\n",
    "\n",
    "import re\n",
    "roman = input('Enter a number: ')\n",
    "if re.search(r\"^(I|V|X|L|C|D|M)+$\", roman) == None:\n",
    "    print(\"False\")\n",
    "elif re.search(r\"(IIII|XXXX|CCCC|MMMM|VV|LL|DD)\", roman) != None:\n",
    "    print(\"False\")\n",
    "else:\n",
    "    print(\"True\")"
   ]
  },
  {
   "cell_type": "code",
   "execution_count": 6,
   "id": "7f8adddd",
   "metadata": {},
   "outputs": [
    {
     "name": "stdout",
     "output_type": "stream",
     "text": [
      "Enter number of mobile numbers to check: 2\n",
      "Enter number to validate: 987654321\n",
      "NO\n",
      "Enter number to validate: 7702383630\n",
      "YES\n"
     ]
    }
   ],
   "source": [
    "#Let's dive into the interesting topic of regular expressions! You are given some input, \n",
    "#and you are required to check whether they are valid mobile numbers.\n",
    "\n",
    "#A valid mobile number is a ten digit number starting with a 7,8 or 9 .\n",
    "\n",
    "import re\n",
    "for i in range(int(input('Enter number of mobile numbers to check: '))):\n",
    "    if re.match(r'[789]\\d{9}$',input('Enter number to validate: ')):   \n",
    "        print('YES')  \n",
    "    else:  \n",
    "        print('NO')"
   ]
  },
  {
   "cell_type": "code",
   "execution_count": 2,
   "id": "ad24631f",
   "metadata": {},
   "outputs": [
    {
     "name": "stdout",
     "output_type": "stream",
     "text": [
      "Enter number of email addresses: 2\n",
      "VIRUS <virus!@variable.:p>\n",
      "DEXTER <dexter@hotmail.com>\n",
      "DEXTER <dexter@hotmail.com>\n"
     ]
    }
   ],
   "source": [
    "#A valid email address meets the following criteria:\n",
    "\n",
    "#It's composed of a username, domain name, and extension assembled in this format: username@domain.extension\n",
    "#The username starts with an English alphabetical character, and any subsequent characters consist of one or \n",
    "#more of the following: alphanumeric characters, -,., and _.\n",
    "#The domain and extension contain only English alphabetical characters.\n",
    "#The extension is 1, 2, or 3  characters in length.\n",
    "#Given n pairs of names and email addresses as input, print each name and email address pair having a valid email \n",
    "#address on a new line.\n",
    "\n",
    "#Hint: Try using Email.utils() to complete this challenge. For example, this code:\n",
    "\n",
    "import re\n",
    "n = int(input('Enter number of email addresses: '))\n",
    "for i in range(n):\n",
    "    x, y = input().split(' ')\n",
    "    m = re.match(r'<[A-Za-z](\\w|-|\\.|_)+@[A-Za-z]+\\.[A-Za-z]{1,3}>', y)\n",
    "    if m:\n",
    "        print(x,y)"
   ]
  },
  {
   "cell_type": "code",
   "execution_count": 1,
   "id": "19356235",
   "metadata": {},
   "outputs": [
    {
     "name": "stdout",
     "output_type": "stream",
     "text": [
      "Enter number of lines of code: 11\n",
      "#BED\n",
      "{\n",
      "color: #FfFdF8; background-color:#aef;\n",
      "#FfFdF8\n",
      "#aef\n",
      "font-size: 123px;\n",
      "  background: -webkit-linear-gradient(top, #f9f9f9, #fff);\n",
      "#f9f9f9\n",
      "#fff\n",
      "}\n",
      "#cab\n",
      "{\n",
      "background-color: #ABC;\n",
      "#ABC\n",
      "border: 2px dashed #fff;\n",
      "#fff\n",
      "}\n"
     ]
    }
   ],
   "source": [
    "#Task\n",
    "#You are given N lines of CSS code.\n",
    "#Your task is to print all valid Hex Color Codes, in order of their occurrence from top to bottom.\n",
    "\n",
    "import re\n",
    "pattern=r'(#[0-9a-fA-F]{3,6}){1,2}[^\\n ]'\n",
    "for i in range(int(input('Enter number of lines of code: '))):\n",
    "    for x in re.findall(pattern,input()):\n",
    "        print(x)"
   ]
  },
  {
   "cell_type": "code",
   "execution_count": 10,
   "id": "25c5f6bc",
   "metadata": {},
   "outputs": [
    {
     "name": "stdout",
     "output_type": "stream",
     "text": [
      "2\n",
      "<html><head><title>HTML Parser - I</title></head>\n",
      "<body data-modal-target class='1'><h1>HackerRank</h1><br /></body></html>\n",
      "Start : html\n",
      "Start : head\n",
      "Start : title\n",
      "End   : title\n",
      "End   : head\n",
      "Start : body\n",
      "-> data-modal-target > None\n",
      "-> class > 1\n",
      "Start : h1\n",
      "End   : h1\n",
      "Empty : br\n",
      "End   : body\n",
      "End   : html\n"
     ]
    }
   ],
   "source": [
    "#Task\n",
    "\n",
    "#You are given an HTML code snippet of N lines.\n",
    "#Your task is to print start tags, end tags and empty tags separately\n",
    "\n",
    "#Format your results in the following way:\n",
    "#Start : Tag1\n",
    "#End   : Tag1\n",
    "#Start : Tag2\n",
    "#-> Attribute2[0] > Attribute_value2[0]\n",
    "#-> Attribute2[1] > Attribute_value2[1]\n",
    "#-> Attribute2[2] > Attribute_value2[2]\n",
    "#Start : Tag3\n",
    "#-> Attribute3[0] > None\n",
    "#Empty : Tag4\n",
    "#-> Attribute4[0] > Attribute_value4[0]\n",
    "#End   : Tag3\n",
    "#End   : Tag2\n",
    "\n",
    "from html.parser import HTMLParser\n",
    "class MyHTMLParser(HTMLParser):\n",
    "    def handle_starttag(self, tag, attrs):        \n",
    "        print ('Start :',tag)\n",
    "        for ele in attrs:\n",
    "            print ('->',ele[0],'>',ele[1])\n",
    "            \n",
    "    def handle_endtag(self, tag):\n",
    "        print ('End   :',tag)\n",
    "        \n",
    "    def handle_startendtag(self, tag, attrs):\n",
    "        print ('Empty :',tag)\n",
    "        for ele in attrs:\n",
    "            print ('->',ele[0],'>',ele[1])\n",
    "\n",
    "MyParser = MyHTMLParser()\n",
    "MyParser.feed(''.join([input().strip() for i in range(int(input()))]))\n",
    "\n"
   ]
  },
  {
   "cell_type": "code",
   "execution_count": 3,
   "id": "601629ec",
   "metadata": {},
   "outputs": [
    {
     "name": "stdout",
     "output_type": "stream",
     "text": [
      "3\n",
      "<!--[if IE 9]>IE9-specific content\n",
      "<![endif]-->\n",
      "<div> Welcome to HackerRank</div>\n",
      ">>> Multi-line Comment\n",
      "[if IE 9]>IE9-specific content\n",
      "<![endif]\n",
      ">>> Data\n",
      " Welcome to HackerRank\n"
     ]
    }
   ],
   "source": [
    "#Task\n",
    "\n",
    "#You are given an HTML code snippet of N lines.\n",
    "#Your task is to print the single-line comments, multi-line comments and the data.\n",
    "\n",
    "#Print the result in the following format:\n",
    "\n",
    "from html.parser import HTMLParser\n",
    "class MyHTMLParser(HTMLParser):\n",
    "    \n",
    "    \n",
    "    def handle_comment(self, data):\n",
    "        if data.count('\\n') > 0:\n",
    "            print(\">>> Multi-line Comment\")\n",
    "        else:\n",
    "            print(\">>> Single-line Comment\")\n",
    "        print(data)\n",
    "    def handle_data(self, data):\n",
    "        if len(data) > 1:\n",
    "            print(\">>> Data\")\n",
    "            print(data)\n",
    "\n",
    "html = \"\"       \n",
    "for i in range(int(input())):\n",
    "    html += input().rstrip()\n",
    "    html += '\\n'\n",
    "    \n",
    "parser = MyHTMLParser()\n",
    "parser.feed(html)\n",
    "parser.close()\n",
    "\n"
   ]
  },
  {
   "cell_type": "code",
   "execution_count": 4,
   "id": "5da0f0ae",
   "metadata": {},
   "outputs": [
    {
     "name": "stdout",
     "output_type": "stream",
     "text": [
      "9\n",
      "<head>\n",
      "<title>HTML</title>\n",
      "</head>\n",
      "<object type=\"application/x-flash\"\n",
      "data=\"your-file.swf\"\n",
      "width=\"0\" height=\"0\">\n",
      " <!-- <param name=\"movie\" value=\"your-file.swf\" /> -->\n",
      " <param name=\"quality\" value=\"high\"/>\n",
      "</object>\n",
      "head\n",
      "title\n",
      "object\n",
      "-> type > application/x-flash\n",
      "-> data > your-file.swf\n",
      "-> width > 0\n",
      "-> height > 0\n",
      "param\n",
      "-> name > quality\n",
      "-> value > high\n"
     ]
    }
   ],
   "source": [
    "#You are given an HTML code snippet of N lines.\n",
    "#Your task is to detect and print all the HTML tags, attributes and attribute values.\n",
    "\n",
    "#Print the detected items in the following format:\n",
    "\n",
    "#Tag1\n",
    "#Tag2\n",
    "#-> Attribute2[0] > Attribute_value2[0]\n",
    "#-> Attribute2[1] > Attribute_value2[1]\n",
    "#-> Attribute2[2] > Attribute_value2[2]\n",
    "#Tag3\n",
    "#-> Attribute3[0] > Attribute_value3[0]\n",
    "\n",
    "#The -> symbol indicates that the tag contains an attribute. It is immediately followed by the name of the attribute and the attribute value.\n",
    "#The > symbol acts as a separator of attributes and attribute values.\n",
    "\n",
    "#If an HTML tag has no attribute then simply print the name of the tag.\n",
    "\n",
    "#Note: Do not detect any HTML tag, attribute or attribute value inside the HTML comment tags (<!-- Comments -->). Comments can be multiline.\n",
    "#All attributes have an attribute value.\n",
    "\n",
    "\n",
    "from html.parser import HTMLParser\n",
    "\n",
    "class MyHTMLParser(HTMLParser):\n",
    "    def handle_starttag(self, tag, attrs):\n",
    "        print(tag)\n",
    "        for at in attrs:\n",
    "            print(\"-> {} > {}\".format(at[0], at[1]))\n",
    "    def handle_startendtag(self, tag, attrs):\n",
    "        print(tag)\n",
    "        for at in attrs:\n",
    "            print(\"-> {} > {}\".format(at[0], at[1]))\n",
    "\n",
    "html = \"\"\n",
    "for i in range(int(input())):\n",
    "    html += input().rstrip()\n",
    "    html += '\\n'\n",
    "    \n",
    "parser = MyHTMLParser()\n",
    "parser.feed(html)\n",
    "parser.close()"
   ]
  },
  {
   "cell_type": "code",
   "execution_count": 2,
   "id": "6b0ec1ff",
   "metadata": {},
   "outputs": [
    {
     "name": "stdout",
     "output_type": "stream",
     "text": [
      "2\n",
      "B1CD102354\n",
      "Invalid\n",
      "B1CDEF2354\n",
      "Valid\n"
     ]
    }
   ],
   "source": [
    "#ABCXYZ company has up to 100 employees.\n",
    "#The company decides to create a unique identification number (UID) for each of its employees.\n",
    "#The company has assigned you the task of validating all the randomly generated UIDs.\n",
    "\n",
    "#A valid UID must follow the rules below:\n",
    "\n",
    "#It must contain at least 2 uppercase English alphabet characters.\n",
    "#It must contain at least 3 digits (0-9).\n",
    "#It should only contain alphanumeric characters (a-z-,A-Z & 0-9).\n",
    "#No character should repeat.\n",
    "#There must be exactly  characters in a valid UID\n",
    "\n",
    "import re\n",
    "for i in range(int(input())):\n",
    "    uid = input()\n",
    "    uid = \"\".join(sorted(uid))\n",
    "    if (re.search(r\"[A-Z]{2}\",uid) and re.search(r\"\\d{3}\",uid) and not re.search(r\"[^A-Za-z0-9]\",uid) and \n",
    "        not re.search(r\"(\\w)\\1\",uid) and len(uid) == 10): \n",
    "        print(\"Valid\")\n",
    "    else:\n",
    "        print(\"Invalid\")"
   ]
  },
  {
   "cell_type": "code",
   "execution_count": 9,
   "id": "ab4ded97",
   "metadata": {},
   "outputs": [
    {
     "name": "stdout",
     "output_type": "stream",
     "text": [
      "6\n",
      "4123456789123456\n",
      "Valid\n",
      "5123-4567-8912-3456\n",
      "Valid\n",
      "61234-567-8912-3456\n",
      "Invalid\n",
      "4123356789123456\n",
      "Valid\n",
      "5133-3367-8912-3456\n",
      "Invalid\n",
      "5123 - 3567 - 8912 - 3456\n",
      "Invalid\n"
     ]
    }
   ],
   "source": [
    "#You and Fredrick are good friends. Yesterday, Fredrick received N credit cards from ABCD Bank. He wants to verify whether his credit card numbers are valid or not. You happen to be great at regex so he is asking for your help!\n",
    "\n",
    "#A valid credit card from ABCD Bank has the following characteristics:\n",
    "\n",
    "#► It must start with a 4,5 or 6 .\n",
    "#► It must contain exactly 16 digits.\n",
    "#► It must only consist of digits (0-9).\n",
    "#► It may have digits in groups of 4 , separated by one hyphen \"-\".\n",
    "#► It must NOT use any other separator like ' ' , '_', etc.\n",
    "#► It must NOT have 4 or more consecutive repeated digits.\n",
    "\n",
    "import re\n",
    "TESTER = re.compile(r\"^\"r\"(?!.*(\\d)(-?\\1){3})\"r\"[456]\"\n",
    "    r\"\\d{3}\"\n",
    "    r\"(?:-?\\d{4}){3}\"\n",
    "    r\"$\")\n",
    "\n",
    "for _ in range(int(input().strip())):\n",
    "    print(\"Valid\" if TESTER.search(input().strip()) else \"Invalid\")"
   ]
  },
  {
   "cell_type": "code",
   "execution_count": 10,
   "id": "98ed4d06",
   "metadata": {},
   "outputs": [
    {
     "name": "stdout",
     "output_type": "stream",
     "text": [
      "110000\n",
      "False\n"
     ]
    }
   ],
   "source": [
    "\n",
    "#Validating Postal Codes\n",
    "#A valid postal code P have to fullfil both below requirements:\n",
    "\n",
    "# P must be a number in the range from 100000  to 999999  inclusive.\n",
    "# P must not contain more than one alternating repetitive digit pair.\n",
    "#Alternating repetitive digits are digits which repeat immediately after the next digit. In other words, \n",
    "#an alternating repetitive digit pair is formed by two equal digits that have just a single digit between them.\n",
    "#Your task is to provide two regular expressions regex_integer_in_range and regex_alternating_repetitive_digit_pair. Where:\n",
    "\n",
    "#regex_integer_in_range should match only integers range from 100000 to 999999 inclusive\n",
    "\n",
    "#regex_alternating_repetitive_digit_pair should find alternating repetitive digits pairs in a given string.\n",
    "\n",
    "\n",
    "import re\n",
    "s=input()\n",
    "print (bool(re.match(r'^[1-9][\\d]{5}$',s) and len(re.findall(r'(\\d)(?=\\d\\1)',s))<2 ))"
   ]
  },
  {
   "cell_type": "code",
   "execution_count": 11,
   "id": "72263f6d",
   "metadata": {},
   "outputs": [
    {
     "name": "stdout",
     "output_type": "stream",
     "text": [
      "7 3\n",
      "Tsi\n",
      "h%x\n",
      "i#\n",
      "sM\n",
      "$a\n",
      "#t%\n",
      "ir!\n",
      "This is Matr\n"
     ]
    }
   ],
   "source": [
    "#Neo has a complex matrix script. The matrix script is a M X N  grid of strings. \n",
    "#It consists of alphanumeric characters, spaces and symbols (!,@,#,$,%,&)\n",
    "\n",
    "#To decode the script, Neo needs to read each column and select only the alphanumeric characters and connect them. Neo reads the column from top to bottom and starts reading from the leftmost column.\n",
    "\n",
    "#If there are symbols or spaces between two alphanumeric characters of the decoded script, then Neo replaces them with a single space '' for better readability.\n",
    "\n",
    "#Neo feels that there is no need to use 'if' conditions for decoding.\n",
    "\n",
    "#Alphanumeric characters consist of: [A-Z, a-z, and 0-9].\n",
    "\n",
    "\n",
    "n, m = input().strip().split(' ')\n",
    "n, m = [int(n), int(m)]\n",
    "matrix = []\n",
    "for _ in range(n):\n",
    "    matrix_t = str(input())\n",
    "    matrix.append(matrix_t)\n",
    "    \n",
    "complete = \"\"\n",
    "for el in zip(*matrix):\n",
    "    complete += \"\".join(el)\n",
    "print(re.sub(r'(?<=\\w)([^\\w]+)(?=\\w)', \" \", complete))\n"
   ]
  }
 ],
 "metadata": {
  "kernelspec": {
   "display_name": "Python 3",
   "language": "python",
   "name": "python3"
  },
  "language_info": {
   "codemirror_mode": {
    "name": "ipython",
    "version": 3
   },
   "file_extension": ".py",
   "mimetype": "text/x-python",
   "name": "python",
   "nbconvert_exporter": "python",
   "pygments_lexer": "ipython3",
   "version": "3.6.10"
  }
 },
 "nbformat": 4,
 "nbformat_minor": 5
}
