{
 "cells": [
  {
   "cell_type": "code",
   "execution_count": 25,
   "id": "d6c1abdf",
   "metadata": {},
   "outputs": [],
   "source": [
    "# Importing the libraries\n",
    "\n",
    "import os\n",
    "import pandas as pd\n",
    "import numpy as np"
   ]
  },
  {
   "cell_type": "markdown",
   "id": "a5f12053",
   "metadata": {},
   "source": [
    "# Running sum of 1D Array"
   ]
  },
  {
   "cell_type": "markdown",
   "id": "416ff43d",
   "metadata": {},
   "source": [
    "Given an array nums. We define a running sum of an array as runningSum[i] = sum(nums[0]…nums[i]).\n",
    "\n",
    "Return the running sum of nums"
   ]
  },
  {
   "cell_type": "code",
   "execution_count": 21,
   "id": "161b997c",
   "metadata": {},
   "outputs": [
    {
     "name": "stdout",
     "output_type": "stream",
     "text": [
      "[1, 2, 3, 4, 5]\n"
     ]
    }
   ],
   "source": [
    "def solve(nums):\n",
    "   n=len(nums)\n",
    "   rs=[nums[0]]\n",
    "\n",
    "   for i in range(1,n):\n",
    "      nums[i]+=nums[i-1]\n",
    "      rs.append(nums[i])\n",
    "   return rs\n",
    "\n",
    "nums = [1,1,1,1,1]\n",
    "print(solve(nums))\n",
    "    \n"
   ]
  },
  {
   "cell_type": "markdown",
   "id": "1c4d17be",
   "metadata": {},
   "source": [
    "# Shuffle the array"
   ]
  },
  {
   "cell_type": "markdown",
   "id": "0a1dfc60",
   "metadata": {},
   "source": [
    "Given the array nums consisting of 2n elements in the form [x1,x2,...,xn,y1,y2,...,yn].\n",
    "\n",
    "Return the array in the form [x1,y1,x2,y2,...,xn,yn]"
   ]
  },
  {
   "cell_type": "code",
   "execution_count": 27,
   "id": "e535a2c9",
   "metadata": {},
   "outputs": [
    {
     "name": "stdout",
     "output_type": "stream",
     "text": [
      "Original array:  [1 2 3 4 5]\n",
      "Shuffled array:  [4 1 2 5 3]\n"
     ]
    }
   ],
   "source": [
    "arr = np.array([1, 2, 3, 4, 5])\n",
    "print(\"Original array: \", arr)\n",
    "np.random.shuffle(arr)\n",
    "print(\"Shuffled array: \", arr)"
   ]
  },
  {
   "cell_type": "markdown",
   "id": "53c247a6",
   "metadata": {},
   "source": [
    "# Kids with greatest number of candies"
   ]
  },
  {
   "cell_type": "markdown",
   "id": "adc49a2c",
   "metadata": {},
   "source": [
    "There are n kids with candies. You are given an integer array candies, where each candies[i] represents the number of candies the ith kid has, and an integer extraCandies, denoting the number of extra candies that you have.\n",
    "\n",
    "Return a boolean array result of length n, where result[i] is true if, after giving the ith kid all the extraCandies, they will have the greatest number of candies among all the kids, or false otherwise.\n",
    "\n",
    "Note that multiple kids can have the greatest number of candies."
   ]
  },
  {
   "cell_type": "code",
   "execution_count": 37,
   "id": "d0585429",
   "metadata": {},
   "outputs": [],
   "source": [
    "from typing import List\n",
    "\n",
    "candies = [5,7,2,3,4]\n",
    "extraCandies = 3\n",
    "\n",
    "class Solution:\n",
    "    def kidsWithCandies(self, candies, extraCandies):\n",
    "        Maximum_Candies = max(candies)\n",
    "        answers = []\n",
    "        for c in candies:\n",
    "            if c + extraCandies >= Maximum_Candies:\n",
    "                answers.append(True)\n",
    "            else:\n",
    "                answers.append(False)\n",
    "        return answers\n",
    "    \n",
    "    "
   ]
  }
 ],
 "metadata": {
  "kernelspec": {
   "display_name": "Python 3",
   "language": "python",
   "name": "python3"
  },
  "language_info": {
   "codemirror_mode": {
    "name": "ipython",
    "version": 3
   },
   "file_extension": ".py",
   "mimetype": "text/x-python",
   "name": "python",
   "nbconvert_exporter": "python",
   "pygments_lexer": "ipython3",
   "version": "3.6.10"
  }
 },
 "nbformat": 4,
 "nbformat_minor": 5
}
