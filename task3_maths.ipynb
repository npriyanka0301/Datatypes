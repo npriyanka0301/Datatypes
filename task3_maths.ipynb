{
 "cells": [
  {
   "cell_type": "code",
   "execution_count": 4,
   "id": "6c7d13e8",
   "metadata": {},
   "outputs": [
    {
     "name": "stdout",
     "output_type": "stream",
     "text": [
      "Enter a number100\n",
      "100.0\n",
      "0.0\n"
     ]
    }
   ],
   "source": [
    "# Task\n",
    "#You are given a complex z. Your task is to convert it to polar coordinates.\n",
    "\n",
    "#Input Format\n",
    "\n",
    "#A single line containing the complex number z. Note: complex() function can be used in python to convert the input as a complex number.\n",
    "\n",
    "#Constraints\n",
    "\n",
    "#Given number is a valid complex number\n",
    "\n",
    "#Output Format\n",
    "#Output two lines:\n",
    "#The first line should contain the value of .\n",
    "#The second line should contain the value of .\n",
    "\n",
    "#Sample Input\n",
    "#1+2j\n",
    "\n",
    "#Sample Output\n",
    "#2.23606797749979 \n",
    "#1.1071487177940904\n",
    "\n",
    "\n",
    "import cmath\n",
    "number = complex(input('Enter a number'))\n",
    "print(abs(number))\n",
    "print(cmath.phase(number))"
   ]
  },
  {
   "cell_type": "code",
   "execution_count": 6,
   "id": "6f5a2d27",
   "metadata": {},
   "outputs": [
    {
     "name": "stdout",
     "output_type": "stream",
     "text": [
      "Length of side AB:15\n",
      "Length of side BC:15\n",
      "45\n"
     ]
    }
   ],
   "source": [
    "# Task: Find angle MBC\n",
    "#Input Format\n",
    "#The first line contains the length of side AB .\n",
    "#The second line contains the length of side BC.\n",
    "\n",
    "import math\n",
    "ab = int(input('Length of side AB:'))\n",
    "bc = int(input('Length of side BC:'))\n",
    "ac2 = ab**2 + bc**2\n",
    "print(str(round(math.degrees(math.acos(-1*(ab**2 - bc**2 - ac2)/(2*bc*math.sqrt(ac2)))))))"
   ]
  },
  {
   "cell_type": "code",
   "execution_count": 9,
   "id": "75c84f78",
   "metadata": {},
   "outputs": [
    {
     "name": "stdout",
     "output_type": "stream",
     "text": [
      "Enter a number : 4\n",
      "1\n",
      "121\n",
      "12321\n",
      "1234321\n"
     ]
    }
   ],
   "source": [
    "# You are given a positive integer N .\n",
    "# Your task is to print a palindromic triangle of size N .\n",
    "\n",
    "# For example, a palindromic triangle of size 5  is\n",
    "\n",
    "# You can't take more than two lines. The first line (a for-statement) is already written for you.\n",
    "#You have to complete the code using exactly one print statement.\n",
    "\n",
    "#Note:\n",
    "#Using anything related to strings will give a score of 0 .\n",
    "#Using more than one for-statement will give a score of 0.\n",
    "\n",
    "#Input Format\n",
    "#A single line of input containing the integer N.\n",
    "\n",
    "for i in range(1,int(input('Enter a number : '))+1):\n",
    "    print (((10**i - 1)//9)**2)\n",
    "\n"
   ]
  },
  {
   "cell_type": "code",
   "execution_count": 13,
   "id": "1c73092d",
   "metadata": {},
   "outputs": [
    {
     "name": "stdout",
     "output_type": "stream",
     "text": [
      "Enter a number a:5\n",
      "Enter a number b:7\n",
      "0\n",
      "5\n",
      "(0, 5)\n"
     ]
    }
   ],
   "source": [
    "# Task\n",
    "#Read in two integers, a and b, and print three lines.\n",
    "#The first line is the integer division a//b (While using Python2 remember to import division from __future__).\n",
    "#The second line is the result of the modulo operator:a%b .\n",
    "#The third line prints the divmod of a and b .\n",
    "\n",
    "a = int(input('Enter a number a:'))\n",
    "b = int(input('Enter a number b:'))\n",
    "print(a//b)\n",
    "print(a%b)\n",
    "print(divmod(a,b))\n"
   ]
  },
  {
   "cell_type": "code",
   "execution_count": 14,
   "id": "c7d35827",
   "metadata": {},
   "outputs": [
    {
     "name": "stdout",
     "output_type": "stream",
     "text": [
      "Enter a: 2\n",
      "Enter b: 4\n",
      "Enter m: 6\n",
      "16\n",
      "4\n"
     ]
    }
   ],
   "source": [
    "#Task\n",
    "#You are given three integers: a,b,and m. Print two lines.\n",
    "#On the first line, print the result of pow(a,b). On the second line, print the result of pow(a,b,m).\n",
    "\n",
    "a = int(input('Enter a: '))\n",
    "b = int(input('Enter b: '))\n",
    "m = int(input('Enter m: '))\n",
    "print(pow(a,b))\n",
    "print(pow(a,b,m))\n"
   ]
  },
  {
   "cell_type": "code",
   "execution_count": 16,
   "id": "40279118",
   "metadata": {},
   "outputs": [
    {
     "name": "stdout",
     "output_type": "stream",
     "text": [
      "Enter a: 9\n",
      "Enter b: 29\n",
      "Enter c: 7\n",
      "Enter d: 27\n",
      "4710194409608608369201743232\n"
     ]
    }
   ],
   "source": [
    "# Task\n",
    "#Read four numbers,a, b, c, and d, and print the result of a**b+c**d\n",
    "\n",
    "a=int(input('Enter a: '))\n",
    "b=int(input('Enter b: '))\n",
    "c=int(input('Enter c: '))\n",
    "d=int(input('Enter d: '))\n",
    "print(a**b+c**d)"
   ]
  },
  {
   "cell_type": "code",
   "execution_count": 18,
   "id": "5d828a7b",
   "metadata": {},
   "outputs": [
    {
     "name": "stdout",
     "output_type": "stream",
     "text": [
      "Enter any number: 8\n",
      "1\n",
      "22\n",
      "333\n",
      "4444\n",
      "55555\n",
      "666666\n",
      "7777777\n"
     ]
    }
   ],
   "source": [
    "#You are given a positive integer N. Print a numerical triangle of height N-1 like the one below:\n",
    "\n",
    "for i in range(1,int(input('Enter any number: '))):\n",
    "    print(i * (10**i - 1)//9)"
   ]
  }
 ],
 "metadata": {
  "kernelspec": {
   "display_name": "Python 3",
   "language": "python",
   "name": "python3"
  },
  "language_info": {
   "codemirror_mode": {
    "name": "ipython",
    "version": 3
   },
   "file_extension": ".py",
   "mimetype": "text/x-python",
   "name": "python",
   "nbconvert_exporter": "python",
   "pygments_lexer": "ipython3",
   "version": "3.6.10"
  }
 },
 "nbformat": 4,
 "nbformat_minor": 5
}
